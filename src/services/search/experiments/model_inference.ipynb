{
 "cells": [
  {
   "cell_type": "code",
   "execution_count": 5,
   "metadata": {},
   "outputs": [
    {
     "name": "stderr",
     "output_type": "stream",
     "text": [
      "/Users/stefruinard/Documents/personal/projects/DeepLearningCareerGuide/machine_learning_systems/src/services/search/venv/lib/python3.9/site-packages/tqdm/auto.py:22: TqdmWarning: IProgress not found. Please update jupyter and ipywidgets. See https://ipywidgets.readthedocs.io/en/stable/user_install.html\n",
      "  from .autonotebook import tqdm as notebook_tqdm\n"
     ]
    }
   ],
   "source": [
    "import tensorflow as tf\n",
    "from transformers import TFAutoModel, TFBertTokenizer\n",
    "from tensorflow_similarity.models import SimilarityModel\n",
    "import tensorflow_similarity as tfsim\n",
    "\n",
    "\n",
    "class TFSentenceTransformer(tf.keras.layers.Layer):\n",
    "    def __init__(self, model_name_or_path, **kwargs):\n",
    "        super(TFSentenceTransformer, self).__init__()\n",
    "        # loads transformers model\n",
    "        self.model = TFAutoModel.from_pretrained(model_name_or_path, **kwargs)\n",
    "\n",
    "    def call(self, inputs, normalize=True):\n",
    "        # runs model on inputs\n",
    "        model_output = self.model(inputs)\n",
    "        # Perform pooling. In this case, mean pooling.\n",
    "        embeddings = self.mean_pooling(model_output, inputs[\"attention_mask\"])\n",
    "        # normalizes the embeddings if wanted\n",
    "        if normalize:\n",
    "            embeddings = self.normalize(embeddings)\n",
    "        return embeddings\n",
    "\n",
    "    def mean_pooling(self, model_output, attention_mask):\n",
    "        # First element of model_output contains all token embeddings\n",
    "        token_embeddings = model_output[0]\n",
    "        input_mask_expanded = tf.cast(\n",
    "            tf.broadcast_to(tf.expand_dims(attention_mask, -1),\n",
    "                            tf.shape(token_embeddings)),\n",
    "            tf.float32\n",
    "        )\n",
    "        return tf.math.reduce_sum(token_embeddings * input_mask_expanded, axis=1) / tf.clip_by_value(tf.math.reduce_sum(input_mask_expanded, axis=1), 1e-9, tf.float32.max)\n",
    "\n",
    "    def normalize(self, embeddings):\n",
    "        embeddings, _ = tf.linalg.normalize(embeddings, 2, axis=1)\n",
    "        return embeddings\n",
    "\n",
    "\n",
    "class E2ESentenceTransformer(tf.keras.Model):\n",
    "    def __init__(self, model_name_or_path):\n",
    "        super().__init__()\n",
    "\n",
    "        self.tokenizer = TFBertTokenizer.from_pretrained(model_name_or_path)\n",
    "        self.model = TFSentenceTransformer(model_name_or_path)\n",
    "\n",
    "    def call(self, inputs):\n",
    "        tokenized = self.tokenizer(\n",
    "            inputs, padding=\"max_length\", max_length=128, truncation=True)\n",
    "        embedding = self.model(tokenized)\n",
    "        return embedding\n",
    "\n",
    "\n",
    "def create_similarity_model(model_id='sentence-transformers/all-MiniLM-L6-v2'):\n",
    "\n",
    "    # specify input layer\n",
    "    tokenizer_input = tf.keras.Input(\n",
    "        shape=(), dtype='string', name=\"text_inputs\")\n",
    "    # loading model with tokenizer and sentence transformer\n",
    "    e2e_model = E2ESentenceTransformer(model_id)\n",
    "    # merge model with input layer\n",
    "    outputs = e2e_model(tokenizer_input)\n",
    "\n",
    "    # create similarity model\n",
    "    sim_model = tfsim.models.SimilarityModel(tokenizer_input, outputs)\n",
    "    return sim_model\n"
   ]
  },
  {
   "cell_type": "code",
   "execution_count": 3,
   "metadata": {},
   "outputs": [
    {
     "ename": "ModuleNotFoundError",
     "evalue": "No module named 'tensorflow'",
     "output_type": "error",
     "traceback": [
      "\u001b[0;31m---------------------------------------------------------------------------\u001b[0m",
      "\u001b[0;31mModuleNotFoundError\u001b[0m                       Traceback (most recent call last)",
      "Cell \u001b[0;32mIn[3], line 1\u001b[0m\n\u001b[0;32m----> 1\u001b[0m \u001b[39mimport\u001b[39;00m \u001b[39mtensorflow\u001b[39;00m\n",
      "\u001b[0;31mModuleNotFoundError\u001b[0m: No module named 'tensorflow'"
     ]
    }
   ],
   "source": [
    "sim_model = create_similarity_model()\n",
    "\n"
   ]
  }
 ],
 "metadata": {
  "kernelspec": {
   "display_name": "venv",
   "language": "python",
   "name": "python3"
  },
  "language_info": {
   "codemirror_mode": {
    "name": "ipython",
    "version": 3
   },
   "file_extension": ".py",
   "mimetype": "text/x-python",
   "name": "python",
   "nbconvert_exporter": "python",
   "pygments_lexer": "ipython3",
   "version": "3.9.13"
  },
  "orig_nbformat": 4,
  "vscode": {
   "interpreter": {
    "hash": "e30d3309a3b6bb1b25444d9f41b6561bb605daf545ebd2500ca65e43e6d703ec"
   }
  }
 },
 "nbformat": 4,
 "nbformat_minor": 2
}
